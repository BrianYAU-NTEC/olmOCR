{
  "cells": [
    {
      "cell_type": "code",
      "execution_count": 5,
      "metadata": {},
      "outputs": [
        {
          "name": "stderr",
          "output_type": "stream",
          "text": [
            "Loading checkpoint shards: 100%|██████████| 4/4 [00:00<00:00, 13.62it/s]\n"
          ]
        },
        {
          "ename": "AssertionError",
          "evalue": "b\"pdftoppm version 4.05 [www.xpdfreader.com]\\nCopyright 1996-2024 Glyph & Cog, LLC\\nUsage: pdftoppm [options] <PDF-file> <PPM-root>\\n  -f <int>          : first page to print\\n  -l <int>          : last page to print\\n  -r <number>       : resolution, in DPI (default is 150)\\n  -mono             : generate a monochrome PBM file\\n  -gray             : generate a grayscale PGM file\\n  -rot <int>        : set page rotation: 0, 90, 180, or 270\\n  -freetype <string>: enable FreeType font rasterizer: yes, no\\n  -aa <string>      : enable font anti-aliasing: yes, no\\n  -aaVector <string>: enable vector anti-aliasing: yes, no\\n  -opw <string>     : owner password (for encrypted files)\\n  -upw <string>     : user password (for encrypted files)\\n  -verbose          : print per-page status information\\n  -q                : don't print any messages or errors\\n  -cfg <string>     : configuration file to use in place of .xpdfrc\\n  -v                : print copyright and version info\\n  -h                : print usage information\\n  -help             : print usage information\\n  --help            : print usage information\\n  -?                : print usage information\\n\"",
          "output_type": "error",
          "traceback": [
            "\u001b[31m---------------------------------------------------------------------------\u001b[39m",
            "\u001b[31mAssertionError\u001b[39m                            Traceback (most recent call last)",
            "\u001b[36mCell\u001b[39m\u001b[36m \u001b[39m\u001b[32mIn[5]\u001b[39m\u001b[32m, line 23\u001b[39m\n\u001b[32m     20\u001b[39m urllib.request.urlretrieve(\u001b[33m\"\u001b[39m\u001b[33mhttps://molmo.allenai.org/paper.pdf\u001b[39m\u001b[33m\"\u001b[39m, \u001b[33m\"\u001b[39m\u001b[33m./paper.pdf\u001b[39m\u001b[33m\"\u001b[39m)\n\u001b[32m     22\u001b[39m \u001b[38;5;66;03m# Render page 1 to an image\u001b[39;00m\n\u001b[32m---> \u001b[39m\u001b[32m23\u001b[39m image_base64 = \u001b[43mrender_pdf_to_base64png\u001b[49m\u001b[43m(\u001b[49m\u001b[33;43m\"\u001b[39;49m\u001b[33;43m./paper.pdf\u001b[39;49m\u001b[33;43m\"\u001b[39;49m\u001b[43m,\u001b[49m\u001b[43m \u001b[49m\u001b[32;43m1\u001b[39;49m\u001b[43m,\u001b[49m\u001b[43m \u001b[49m\u001b[43mtarget_longest_image_dim\u001b[49m\u001b[43m=\u001b[49m\u001b[32;43m1024\u001b[39;49m\u001b[43m)\u001b[49m\n\u001b[32m     25\u001b[39m \u001b[38;5;66;03m# Build the prompt, using document metadata\u001b[39;00m\n\u001b[32m     26\u001b[39m anchor_text = get_anchor_text(\u001b[33m\"\u001b[39m\u001b[33m./paper.pdf\u001b[39m\u001b[33m\"\u001b[39m, \u001b[32m1\u001b[39m, pdf_engine=\u001b[33m\"\u001b[39m\u001b[33mpdfreport\u001b[39m\u001b[33m\"\u001b[39m, target_length=\u001b[32m4000\u001b[39m)\n",
            "\u001b[36mFile \u001b[39m\u001b[32m/opt/anaconda3/envs/olmOCR311/lib/python3.11/site-packages/olmocr/data/renderpdf.py:59\u001b[39m, in \u001b[36mrender_pdf_to_base64png\u001b[39m\u001b[34m(local_pdf_path, page_num, target_longest_image_dim)\u001b[39m\n\u001b[32m     42\u001b[39m \u001b[38;5;66;03m# Convert PDF page to PNG using pdftoppm\u001b[39;00m\n\u001b[32m     43\u001b[39m pdftoppm_result = subprocess.run(\n\u001b[32m     44\u001b[39m     [\n\u001b[32m     45\u001b[39m         \u001b[33m\"\u001b[39m\u001b[33mpdftoppm\u001b[39m\u001b[33m\"\u001b[39m,\n\u001b[32m   (...)\u001b[39m\u001b[32m     57\u001b[39m     stderr=subprocess.PIPE,\n\u001b[32m     58\u001b[39m )\n\u001b[32m---> \u001b[39m\u001b[32m59\u001b[39m \u001b[38;5;28;01massert\u001b[39;00m pdftoppm_result.returncode == \u001b[32m0\u001b[39m, pdftoppm_result.stderr\n\u001b[32m     60\u001b[39m \u001b[38;5;28;01mreturn\u001b[39;00m base64.b64encode(pdftoppm_result.stdout).decode(\u001b[33m\"\u001b[39m\u001b[33mutf-8\u001b[39m\u001b[33m\"\u001b[39m)\n",
            "\u001b[31mAssertionError\u001b[39m: b\"pdftoppm version 4.05 [www.xpdfreader.com]\\nCopyright 1996-2024 Glyph & Cog, LLC\\nUsage: pdftoppm [options] <PDF-file> <PPM-root>\\n  -f <int>          : first page to print\\n  -l <int>          : last page to print\\n  -r <number>       : resolution, in DPI (default is 150)\\n  -mono             : generate a monochrome PBM file\\n  -gray             : generate a grayscale PGM file\\n  -rot <int>        : set page rotation: 0, 90, 180, or 270\\n  -freetype <string>: enable FreeType font rasterizer: yes, no\\n  -aa <string>      : enable font anti-aliasing: yes, no\\n  -aaVector <string>: enable vector anti-aliasing: yes, no\\n  -opw <string>     : owner password (for encrypted files)\\n  -upw <string>     : user password (for encrypted files)\\n  -verbose          : print per-page status information\\n  -q                : don't print any messages or errors\\n  -cfg <string>     : configuration file to use in place of .xpdfrc\\n  -v                : print copyright and version info\\n  -h                : print usage information\\n  -help             : print usage information\\n  --help            : print usage information\\n  -?                : print usage information\\n\""
          ]
        }
      ],
      "source": [
        "import torch\n",
        "import base64\n",
        "import urllib.request\n",
        "\n",
        "from io import BytesIO\n",
        "from PIL import Image\n",
        "from transformers import AutoProcessor, Qwen2VLForConditionalGeneration\n",
        "\n",
        "from olmocr.data.renderpdf import render_pdf_to_base64png\n",
        "from olmocr.prompts import build_finetuning_prompt\n",
        "from olmocr.prompts.anchor import get_anchor_text"
      ]
    },
    {
      "cell_type": "code",
      "execution_count": null,
      "metadata": {},
      "outputs": [
        {
          "data": {
            "application/vnd.jupyter.widget-view+json": {
              "model_id": "bd91c27a19574442b7f974c1f0ce3566",
              "version_major": 2,
              "version_minor": 0
            },
            "text/plain": [
              "Loading checkpoint shards:   0%|          | 0/4 [00:00<?, ?it/s]"
            ]
          },
          "metadata": {},
          "output_type": "display_data"
        }
      ],
      "source": [
        "# Define the model and processor names\n",
        "model_name = \"allenai/olmOCR-7B-0225-preview\"\n",
        "processor_name = \"Qwen/Qwen2-VL-7B-Instruct\"\n",
        "\n",
        "# Initialize the model\n",
        "model = Qwen2VLForConditionalGeneration.from_pretrained(\"allenai/olmOCR-7B-0225-preview\", torch_dtype=torch.bfloat16).eval()\n",
        "processor = AutoProcessor.from_pretrained(\"Qwen/Qwen2-VL-7B-Instruct\", use_fast=False)\n",
        "device = torch.device(\"cuda\" if torch.cuda.is_available() else \"cpu\")\n",
        "\n",
        "# Empty CUDA cache before moving the model\n",
        "torch.cuda.empty_cache()\n",
        "\n",
        "# Move the model to the device\n",
        "model.to(device)\n",
        "\n",
        "# Empty CUDA cache again after moving the model\n",
        "torch.cuda.empty_cache()\n"
      ]
    },
    {
      "cell_type": "code",
      "execution_count": 6,
      "metadata": {},
      "outputs": [
        {
          "name": "stdout",
          "output_type": "stream",
          "text": [
            "Below is the image of one page of a document, as well as some raw textual content that was previously extracted for it. Just return the plain text representation of this document as if you were reading it naturally.\n",
            "Do not hallucinate.\n",
            "RAW_TEXT_START\n",
            "Page dimensions: 841.9x595.3\n",
            "[Image 666x544 to 730x581]\n",
            "[42x453]______________________________________________________________________________________________________________________________________________________________________________________\n",
            "[57x441]Item Vendor Article No Article No Color Size Delivery Quantity Unit Suggest Price Unit Cost Discount (%) Amount\n",
            "[85x429]Article Description Article Status Item category HKD\n",
            "[42x414]______________________________________________________________________________________________________________________________________________________________________________________\n",
            "[42x399]SKT SKATER\n",
            "[48x387]0799099 OTHERS\n",
            "[57x375]00030 463358 00 110475003001 N/A 3PC 20.12.2024 82 PC 49.90 20.00 59.92 1,640.00\n",
            "[85x363]KT TOOTHBRUSH(3-5 AGE), N/A, 3PC\n",
            "[57x351]00040 618727 00 110475103001 N/A 3PC 20.12.2024 51 PC 49.90 28.20 43.49 1,438.20\n",
            "[85x339]CHIKAWA TOOTHBRUSH(6-12 AGE), N/A, 3PC\n",
            "[57x327]00050 619120 110502603001 N/A 3PC 20.12.2024 450 PC 49.90 28.20 43.49 12,690.00\n",
            "[85x315]MOFUSAND TOOTHBRUSH(6-12AGE), N/A, 3PC\n",
            "[57x303]00110 628870 110627803001 N/A 3PC 20.12.2024 300 PC 49.90 21.70 56.51 6,510.00\n",
            "[85x291]KT TOOTHBRUSH(6-12 AGE) W/CAP, N/A, 3PC\n",
            "[57x279]00120 635335 110629003001 N/A 3PC 20.12.2024 500 PC 49.90 26.00 47.90 13,000.00\n",
            "[85x267]TOMICA TOOTHBRUSH(3-5AGE)W/CAP, N/A, 3PC\n",
            "[42x252]SRO SANRIO\n",
            "[48x240]0101006 LIP CARE\n",
            "[57x228]00080 SA43927 110536909001 N/A 1PC 20.12.2024 133 PC 69.90 36.30 48.07 4,827.90\n",
            "[85x216]MM COLORED LIP BALM, N/A, 1PC\n",
            "[48x204]0802004 BATH ADDITIVES\n",
            "[57x192]00060 277274 01 110536202001 N/A 1PC 20.12.2024 95 PC 39.00 39.00 0.00 3,705.00\n",
            "[85x180]HG BATH BALL, N/A, 1PC\n",
            "[57x168]00070 428779 01 110536302001 N/A 1PC 20.12.2024 79 PC 59.00 59.00 0.00 4,661.00\n",
            "[85x156]MX BATH BALL-SP BABY, N/A, 1PC\n",
            "[48x144]1205099 OTHERS\n",
            "[57x132]00090 976989 02 110577302001 N/A 1PC 20.12.2024 80 PC 69.90 32.50 53.51 2,600.00\n",
            "[85x120]KU D-CUT SCRUNCHIE, N/A, 1PC\n",
            "[57x108]00100 420964 110592802001 N/A 1PC 20.12.2024 44 PC 62.90 35.00 44.36 1,540.00\n",
            "[85x96]HG AURORA HAIR CLIP, N/A, 1PC\n",
            "[48x84]SANRIO ORIGINAL\n",
            "[57x72]00010 962481 00 110216102001 N/A 1PC 20.12.2024 10 PC 76.00 32.00 57.89 320.00\n",
            "[42x541]PO Number : 4502888160\n",
            "[42x529]Supplier : 1002014 DANIEL & CO (GIFTS) LTD\n",
            "[42x517]Address : ROOM 7-10, BLOCK B, 11/F\n",
            "[103x505]14-20 CHEUNG TAT ROAD, TSING YI HK\n",
            "[42x493]Tel : 2433 1918\n",
            "[42x481]Fax : 2449 9308\n",
            "[42x469]Contact Person : MISS FENNY HO\n",
            "[42x59]Sa Sa Cosmetic Co. Ltd.\n",
            "[137x59]14/F., Block B, MP Industrial Centre, 18 Ka Yip Street, Chai Wan, Hong Kong\n",
            "[42x47]²ï²ï¤ÆùÛ«~¦³­­¤½¥q\n",
            "[42x35]T:\n",
            "[50x35](852) 2889 2331\n",
            "[111x35]F:\n",
            "[119x35](852) 2898 9717\n",
            "[340x541]Document Date : 12.12.2024\n",
            "[340x529]Buyer Name : Natalie Wong\n",
            "[340x517]Tel :\n",
            "[340x505]Payment Terms : 60 days after the end of current month\n",
            "[340x493]Shipment Terms :\n",
            "[340x481]Ship to : Gridlines 5010W on the 5th Floor, ATL Logistics Centre,\n",
            "[399x469]Berth No.3,Kwai Chung Container Terminal HK\n",
            "[340x457]Site : D001\n",
            "[666x513]Page : 1 of 3\n",
            "[666x501]Date : 12.12.2024\n",
            "[666x489]Time : 14:36:58\n",
            "[340x569]Purchase Order\n",
            "\n",
            "RAW_TEXT_END\n"
          ]
        }
      ],
      "source": [
        "# Render page 1 to an image\n",
        "src = \"./source/SASA.pdf\"\n",
        "image_base64 = render_pdf_to_base64png(src, 1, target_longest_image_dim=1024)\n",
        "\n",
        "# Build the prompt, using document metadata\n",
        "anchor_text = get_anchor_text(src, 1, pdf_engine=\"pdfreport\", target_length=4000)\n",
        "prompt = build_finetuning_prompt(anchor_text)\n",
        "print(prompt)\n"
      ]
    },
    {
      "cell_type": "code",
      "execution_count": 7,
      "metadata": {},
      "outputs": [
        {
          "name": "stdout",
          "output_type": "stream",
          "text": [
            "Page dimensions: 841.9x595.3\n",
            "[Image 666x544 to 730x581]\n",
            "[42x453]______________________________________________________________________________________________________________________________________________________________________________________\n",
            "[57x441]Item Vendor Article No Article No Color Size Delivery Quantity Unit Suggest Price Unit Cost Discount (%) Amount\n",
            "[85x429]Article Description Article Status Item category HKD\n",
            "[42x414]______________________________________________________________________________________________________________________________________________________________________________________\n",
            "[42x399]SKT SKATER\n",
            "[48x387]0799099 OTHERS\n",
            "[57x375]00030 463358 00 110475003001 N/A 3PC 20.12.2024 82 PC 49.90 20.00 59.92 1,640.00\n",
            "[85x363]KT TOOTHBRUSH(3-5 AGE), N/A, 3PC\n",
            "[57x351]00040 618727 00 110475103001 N/A 3PC 20.12.2024 51 PC 49.90 28.20 43.49 1,438.20\n",
            "[85x339]CHIKAWA TOOTHBRUSH(6-12 AGE), N/A, 3PC\n",
            "[57x327]00050 619120 110502603001 N/A 3PC 20.12.2024 450 PC 49.90 28.20 43.49 12,690.00\n",
            "[85x315]MOFUSAND TOOTHBRUSH(6-12AGE), N/A, 3PC\n",
            "[57x303]00110 628870 110627803001 N/A 3PC 20.12.2024 300 PC 49.90 21.70 56.51 6,510.00\n",
            "[85x291]KT TOOTHBRUSH(6-12 AGE) W/CAP, N/A, 3PC\n",
            "[57x279]00120 635335 110629003001 N/A 3PC 20.12.2024 500 PC 49.90 26.00 47.90 13,000.00\n",
            "[85x267]TOMICA TOOTHBRUSH(3-5AGE)W/CAP, N/A, 3PC\n",
            "[42x252]SRO SANRIO\n",
            "[48x240]0101006 LIP CARE\n",
            "[57x228]00080 SA43927 110536909001 N/A 1PC 20.12.2024 133 PC 69.90 36.30 48.07 4,827.90\n",
            "[85x216]MM COLORED LIP BALM, N/A, 1PC\n",
            "[48x204]0802004 BATH ADDITIVES\n",
            "[57x192]00060 277274 01 110536202001 N/A 1PC 20.12.2024 95 PC 39.00 39.00 0.00 3,705.00\n",
            "[85x180]HG BATH BALL, N/A, 1PC\n",
            "[57x168]00070 428779 01 110536302001 N/A 1PC 20.12.2024 79 PC 59.00 59.00 0.00 4,661.00\n",
            "[85x156]MX BATH BALL-SP BABY, N/A, 1PC\n",
            "[48x144]1205099 OTHERS\n",
            "[57x132]00090 976989 02 110577302001 N/A 1PC 20.12.2024 80 PC 69.90 32.50 53.51 2,600.00\n",
            "[85x120]KU D-CUT SCRUNCHIE, N/A, 1PC\n",
            "[57x108]00100 420964 110592802001 N/A 1PC 20.12.2024 44 PC 62.90 35.00 44.36 1,540.00\n",
            "[85x96]HG AURORA HAIR CLIP, N/A, 1PC\n",
            "[48x84]SANRIO ORIGINAL\n",
            "[57x72]00010 962481 00 110216102001 N/A 1PC 20.12.2024 10 PC 76.00 32.00 57.89 320.00\n",
            "[42x541]PO Number : 4502888160\n",
            "[42x529]Supplier : 1002014 DANIEL & CO (GIFTS) LTD\n",
            "[42x517]Address : ROOM 7-10, BLOCK B, 11/F\n",
            "[103x505]14-20 CHEUNG TAT ROAD, TSING YI HK\n",
            "[42x493]Tel : 2433 1918\n",
            "[42x481]Fax : 2449 9308\n",
            "[42x469]Contact Person : MISS FENNY HO\n",
            "[42x59]Sa Sa Cosmetic Co. Ltd.\n",
            "[137x59]14/F., Block B, MP Industrial Centre, 18 Ka Yip Street, Chai Wan, Hong Kong\n",
            "[42x47]²ï²ï¤ÆùÛ«~¦³­­¤½¥q\n",
            "[42x35]T:\n",
            "[50x35](852) 2889 2331\n",
            "[111x35]F:\n",
            "[119x35](852) 2898 9717\n",
            "[340x541]Document Date : 12.12.2024\n",
            "[340x529]Buyer Name : Natalie Wong\n",
            "[340x517]Tel :\n",
            "[340x505]Payment Terms : 60 days after the end of current month\n",
            "[340x493]Shipment Terms :\n",
            "[340x481]Ship to : Gridlines 5010W on the 5th Floor, ATL Logistics Centre,\n",
            "[399x469]Berth No.3,Kwai Chung Container Terminal HK\n",
            "[340x457]Site : D001\n",
            "[666x513]Page : 1 of 3\n",
            "[666x501]Date : 12.12.2024\n",
            "[666x489]Time : 14:36:58\n",
            "[340x569]Purchase Order\n",
            "\n"
          ]
        }
      ],
      "source": [
        "print(anchor_text)"
      ]
    }
  ],
  "metadata": {
    "kernelspec": {
      "display_name": "olmOCR311",
      "language": "python",
      "name": "python3"
    },
    "language_info": {
      "codemirror_mode": {
        "name": "ipython",
        "version": 3
      },
      "file_extension": ".py",
      "mimetype": "text/x-python",
      "name": "python",
      "nbconvert_exporter": "python",
      "pygments_lexer": "ipython3",
      "version": "3.11.11"
    }
  },
  "nbformat": 4,
  "nbformat_minor": 2
}
