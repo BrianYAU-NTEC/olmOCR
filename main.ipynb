{
 "cells": [
  {
   "cell_type": "code",
   "execution_count": 5,
   "metadata": {},
   "outputs": [
    {
     "name": "stderr",
     "output_type": "stream",
     "text": [
      "Loading checkpoint shards: 100%|██████████| 4/4 [00:00<00:00, 13.62it/s]\n"
     ]
    },
    {
     "ename": "AssertionError",
     "evalue": "b\"pdftoppm version 4.05 [www.xpdfreader.com]\\nCopyright 1996-2024 Glyph & Cog, LLC\\nUsage: pdftoppm [options] <PDF-file> <PPM-root>\\n  -f <int>          : first page to print\\n  -l <int>          : last page to print\\n  -r <number>       : resolution, in DPI (default is 150)\\n  -mono             : generate a monochrome PBM file\\n  -gray             : generate a grayscale PGM file\\n  -rot <int>        : set page rotation: 0, 90, 180, or 270\\n  -freetype <string>: enable FreeType font rasterizer: yes, no\\n  -aa <string>      : enable font anti-aliasing: yes, no\\n  -aaVector <string>: enable vector anti-aliasing: yes, no\\n  -opw <string>     : owner password (for encrypted files)\\n  -upw <string>     : user password (for encrypted files)\\n  -verbose          : print per-page status information\\n  -q                : don't print any messages or errors\\n  -cfg <string>     : configuration file to use in place of .xpdfrc\\n  -v                : print copyright and version info\\n  -h                : print usage information\\n  -help             : print usage information\\n  --help            : print usage information\\n  -?                : print usage information\\n\"",
     "output_type": "error",
     "traceback": [
      "\u001b[31m---------------------------------------------------------------------------\u001b[39m",
      "\u001b[31mAssertionError\u001b[39m                            Traceback (most recent call last)",
      "\u001b[36mCell\u001b[39m\u001b[36m \u001b[39m\u001b[32mIn[5]\u001b[39m\u001b[32m, line 23\u001b[39m\n\u001b[32m     20\u001b[39m urllib.request.urlretrieve(\u001b[33m\"\u001b[39m\u001b[33mhttps://molmo.allenai.org/paper.pdf\u001b[39m\u001b[33m\"\u001b[39m, \u001b[33m\"\u001b[39m\u001b[33m./paper.pdf\u001b[39m\u001b[33m\"\u001b[39m)\n\u001b[32m     22\u001b[39m \u001b[38;5;66;03m# Render page 1 to an image\u001b[39;00m\n\u001b[32m---> \u001b[39m\u001b[32m23\u001b[39m image_base64 = \u001b[43mrender_pdf_to_base64png\u001b[49m\u001b[43m(\u001b[49m\u001b[33;43m\"\u001b[39;49m\u001b[33;43m./paper.pdf\u001b[39;49m\u001b[33;43m\"\u001b[39;49m\u001b[43m,\u001b[49m\u001b[43m \u001b[49m\u001b[32;43m1\u001b[39;49m\u001b[43m,\u001b[49m\u001b[43m \u001b[49m\u001b[43mtarget_longest_image_dim\u001b[49m\u001b[43m=\u001b[49m\u001b[32;43m1024\u001b[39;49m\u001b[43m)\u001b[49m\n\u001b[32m     25\u001b[39m \u001b[38;5;66;03m# Build the prompt, using document metadata\u001b[39;00m\n\u001b[32m     26\u001b[39m anchor_text = get_anchor_text(\u001b[33m\"\u001b[39m\u001b[33m./paper.pdf\u001b[39m\u001b[33m\"\u001b[39m, \u001b[32m1\u001b[39m, pdf_engine=\u001b[33m\"\u001b[39m\u001b[33mpdfreport\u001b[39m\u001b[33m\"\u001b[39m, target_length=\u001b[32m4000\u001b[39m)\n",
      "\u001b[36mFile \u001b[39m\u001b[32m/opt/anaconda3/envs/olmOCR311/lib/python3.11/site-packages/olmocr/data/renderpdf.py:59\u001b[39m, in \u001b[36mrender_pdf_to_base64png\u001b[39m\u001b[34m(local_pdf_path, page_num, target_longest_image_dim)\u001b[39m\n\u001b[32m     42\u001b[39m \u001b[38;5;66;03m# Convert PDF page to PNG using pdftoppm\u001b[39;00m\n\u001b[32m     43\u001b[39m pdftoppm_result = subprocess.run(\n\u001b[32m     44\u001b[39m     [\n\u001b[32m     45\u001b[39m         \u001b[33m\"\u001b[39m\u001b[33mpdftoppm\u001b[39m\u001b[33m\"\u001b[39m,\n\u001b[32m   (...)\u001b[39m\u001b[32m     57\u001b[39m     stderr=subprocess.PIPE,\n\u001b[32m     58\u001b[39m )\n\u001b[32m---> \u001b[39m\u001b[32m59\u001b[39m \u001b[38;5;28;01massert\u001b[39;00m pdftoppm_result.returncode == \u001b[32m0\u001b[39m, pdftoppm_result.stderr\n\u001b[32m     60\u001b[39m \u001b[38;5;28;01mreturn\u001b[39;00m base64.b64encode(pdftoppm_result.stdout).decode(\u001b[33m\"\u001b[39m\u001b[33mutf-8\u001b[39m\u001b[33m\"\u001b[39m)\n",
      "\u001b[31mAssertionError\u001b[39m: b\"pdftoppm version 4.05 [www.xpdfreader.com]\\nCopyright 1996-2024 Glyph & Cog, LLC\\nUsage: pdftoppm [options] <PDF-file> <PPM-root>\\n  -f <int>          : first page to print\\n  -l <int>          : last page to print\\n  -r <number>       : resolution, in DPI (default is 150)\\n  -mono             : generate a monochrome PBM file\\n  -gray             : generate a grayscale PGM file\\n  -rot <int>        : set page rotation: 0, 90, 180, or 270\\n  -freetype <string>: enable FreeType font rasterizer: yes, no\\n  -aa <string>      : enable font anti-aliasing: yes, no\\n  -aaVector <string>: enable vector anti-aliasing: yes, no\\n  -opw <string>     : owner password (for encrypted files)\\n  -upw <string>     : user password (for encrypted files)\\n  -verbose          : print per-page status information\\n  -q                : don't print any messages or errors\\n  -cfg <string>     : configuration file to use in place of .xpdfrc\\n  -v                : print copyright and version info\\n  -h                : print usage information\\n  -help             : print usage information\\n  --help            : print usage information\\n  -?                : print usage information\\n\""
     ]
    }
   ],
   "source": [
    "import torch\n",
    "import base64\n",
    "import urllib.request\n",
    "\n",
    "from io import BytesIO\n",
    "from PIL import Image\n",
    "from transformers import AutoProcessor, Qwen2VLForConditionalGeneration\n",
    "\n",
    "from olmocr.data.renderpdf import render_pdf_to_base64png\n",
    "from olmocr.prompts import build_finetuning_prompt\n",
    "from olmocr.prompts.anchor import get_anchor_text\n",
    "\n",
    "# Initialize the model\n",
    "model = Qwen2VLForConditionalGeneration.from_pretrained(\"allenai/olmOCR-7B-0225-preview\", torch_dtype=torch.bfloat16).eval()\n",
    "processor = AutoProcessor.from_pretrained(\"Qwen/Qwen2-VL-7B-Instruct\", use_fast=False)\n",
    "device = torch.device(\"cuda\" if torch.cuda.is_available() else \"cpu\")\n",
    "model.to(device)\n",
    "\n",
    "# Grab a sample PDF\n",
    "urllib.request.urlretrieve(\"https://molmo.allenai.org/paper.pdf\", \"./paper.pdf\")\n",
    "\n",
    "# Render page 1 to an image\n",
    "image_base64 = render_pdf_to_base64png(\"./paper.pdf\", 1, target_longest_image_dim=1024)\n",
    "\n",
    "# Build the prompt, using document metadata\n",
    "anchor_text = get_anchor_text(\"./paper.pdf\", 1, pdf_engine=\"pdfreport\", target_length=4000)\n",
    "prompt = build_finetuning_prompt(anchor_text)\n",
    "\n",
    "# Build the full prompt\n",
    "messages = [\n",
    "            {\n",
    "                \"role\": \"user\",\n",
    "                \"content\": [\n",
    "                    {\"type\": \"text\", \"text\": prompt},\n",
    "                    {\"type\": \"image_url\", \"image_url\": {\"url\": f\"data:image/png;base64,{image_base64}\"}},\n",
    "                ],\n",
    "            }\n",
    "        ]\n",
    "\n",
    "# Apply the chat template and processor\n",
    "text = processor.apply_chat_template(messages, tokenize=False, add_generation_prompt=True)\n",
    "main_image = Image.open(BytesIO(base64.b64decode(image_base64)))\n",
    "\n",
    "inputs = processor(\n",
    "    text=[text],\n",
    "    images=[main_image],\n",
    "    padding=True,\n",
    "    return_tensors=\"pt\",\n",
    ")\n",
    "inputs = {key: value.to(device) for (key, value) in inputs.items()}\n",
    "\n",
    "\n",
    "# Generate the output\n",
    "output = model.generate(\n",
    "            **inputs,\n",
    "            temperature=0.8,\n",
    "            max_new_tokens=50,\n",
    "            num_return_sequences=1,\n",
    "            do_sample=True,\n",
    "        )\n",
    "\n",
    "# Decode the output\n",
    "prompt_length = inputs[\"input_ids\"].shape[1]\n",
    "new_tokens = output[:, prompt_length:]\n",
    "text_output = processor.tokenizer.batch_decode(\n",
    "    new_tokens, skip_special_tokens=True\n",
    ")\n",
    "\n",
    "print(text_output)\n",
    "# ['{\"primary_language\":\"en\",\"is_rotation_valid\":true,\"rotation_correction\":0,\"is_table\":false,\"is_diagram\":false,\"natural_text\":\"Molmo and PixMo:\\\\nOpen Weights and Open Data\\\\nfor State-of-the']"
   ]
  }
 ],
 "metadata": {
  "kernelspec": {
   "display_name": "olmOCR311",
   "language": "python",
   "name": "python3"
  },
  "language_info": {
   "codemirror_mode": {
    "name": "ipython",
    "version": 3
   },
   "file_extension": ".py",
   "mimetype": "text/x-python",
   "name": "python",
   "nbconvert_exporter": "python",
   "pygments_lexer": "ipython3",
   "version": "3.11.11"
  }
 },
 "nbformat": 4,
 "nbformat_minor": 2
}
